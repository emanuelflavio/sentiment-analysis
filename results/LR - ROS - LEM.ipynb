{
 "cells": [
  {
   "cell_type": "code",
   "execution_count": 7,
   "id": "b91fd417",
   "metadata": {},
   "outputs": [
    {
     "name": "stdout",
     "output_type": "stream",
     "text": [
      "Resultados da validação cruzada:\n",
      "Scores: [0.94339623 0.93803392 0.93675889 0.93484636 0.94071146]\n",
      "Precisão média: 0.9387493715102279\n",
      "Acuracia: 0.77\n",
      "Precisão: 0.81\n",
      "Recall: 0.77\n",
      "F-score: 0.78\n",
      "\n",
      "Relatório de Classificação:\n",
      "              precision    recall  f1-score   support\n",
      "\n",
      "    Negativo       0.23      0.29      0.26       220\n",
      "    Positivo       0.90      0.85      0.87      3268\n",
      "      Neutro       0.19      0.28      0.23       317\n",
      "\n",
      "    accuracy                           0.77      3805\n",
      "   macro avg       0.44      0.47      0.45      3805\n",
      "weighted avg       0.81      0.77      0.78      3805\n",
      "\n"
     ]
    }
   ],
   "source": [
    "import pandas as pd\n",
    "import nltk\n",
    "from nltk.stem import WordNetLemmatizer\n",
    "from sklearn.feature_extraction.text import CountVectorizer\n",
    "from sklearn.model_selection import train_test_split, cross_val_score\n",
    "from sklearn.linear_model import LogisticRegression\n",
    "from sklearn.metrics import precision_score, recall_score, f1_score, accuracy_score, classification_report\n",
    "from imblearn.over_sampling import RandomOverSampler\n",
    "\n",
    "# Carregar os dados\n",
    "# df = pd.read_csv('Reddit_Data.csv')\n",
    "# df_filtrado = df[df['category'] != 0]\n",
    "# df_1 = df_filtrado['clean_comment']\n",
    "# rotulos = df_filtrado['category']\n",
    "\n",
    "data = pd.read_csv('new_comentarios_ingles.csv')\n",
    "df_1 = data['Comentario']\n",
    "rotulos = data['sentimento']\n",
    "\n",
    "df['Comentario'] = df['Comentario'].apply(lambda x: x.lower())\n",
    "\n",
    "# Definir polarizações de sentimento\n",
    "def define_sentiment(rating):\n",
    "    if rating == 'positivo':\n",
    "        return 1  \n",
    "    elif rating == 'neutro':\n",
    "        return 2\n",
    "    else:\n",
    "        return 0 \n",
    "\n",
    "data['sentimento_polarizado'] = data['sentimento'].apply(define_sentiment)\n",
    "\n",
    "rotulos = data['sentimento_polarizado']\n",
    "\n",
    "# Tokenização e lematização\n",
    "comentarios_tokenizados = []\n",
    "wnl = WordNetLemmatizer()\n",
    "\n",
    "def lemmatize_tokens(tokens):\n",
    "    return [wnl.lemmatize(plv) for plv in tokens]\n",
    "\n",
    "for tok in df_1:\n",
    "    tokens = nltk.word_tokenize(str(tok))\n",
    "    comentarios_tokenizados.append(tokens)\n",
    "\n",
    "lemm_tks = [lemmatize_tokens(tokens) for tokens in comentarios_tokenizados]\n",
    "\n",
    "# Divisão em conjuntos de treinamento e teste\n",
    "X_treino, X_teste, y_treino, y_teste = train_test_split(lemm_tks, rotulos, test_size=0.2, random_state=42, stratify=rotulos)\n",
    "\n",
    "\n",
    "# Vetorização dos dados de texto\n",
    "vectorizer = CountVectorizer()\n",
    "X_treino_vect = vectorizer.fit_transform([' '.join(comentario) for comentario in X_treino])\n",
    "X_teste_vect = vectorizer.transform([' '.join(comentario) for comentario in X_teste])\n",
    "\n",
    "# Aplicando Random Oversampling\n",
    "oversampler = RandomOverSampler()\n",
    "X_treino_res, y_treino_res = oversampler.fit_resample(X_treino_vect, y_treino)\n",
    "\n",
    "# Treinamento do classificador de Regressão Logística\n",
    "classifier = LogisticRegression(max_iter=1000)\n",
    "\n",
    "# Validação cruzada\n",
    "scores = cross_val_score(classifier, X_treino_res, y_treino_res, cv=5)  # cv=5 indica 5-fold cross-validation\n",
    "\n",
    "# Treinamento final do modelo\n",
    "classifier.fit(X_treino_res, y_treino_res)\n",
    "\n",
    "# Predição nos dados de teste\n",
    "predicoes = classifier.predict(X_teste_vect)\n",
    "\n",
    "# Calcular precisão, recall e F-score\n",
    "precision = precision_score(y_teste, predicoes, average='weighted')\n",
    "recall = recall_score(y_teste, predicoes, average='weighted')\n",
    "f_score = f1_score(y_teste, predicoes, average='weighted')\n",
    "acuracia = accuracy_score(y_teste, predicoes)\n",
    "relatorio_classificacao = classification_report(y_teste, predicoes, target_names=['Negativo', 'Positivo', 'Neutro'])\n",
    "\n",
    "# Imprimir resultados\n",
    "print(\"Resultados da validação cruzada:\")\n",
    "print(\"Scores:\", scores)\n",
    "print(\"Precisão média:\", scores.mean())\n",
    "print(\"Acuracia: {:.2f}\".format(acuracia))\n",
    "print(\"Precisão: {:.2f}\".format(precision))\n",
    "print(\"Recall: {:.2f}\".format(recall))\n",
    "print(\"F-score: {:.2f}\".format(f_score))\n",
    "print(\"\\nRelatório de Classificação:\")\n",
    "print(relatorio_classificacao)"
   ]
  },
  {
   "cell_type": "code",
   "execution_count": 8,
   "id": "5efe9a63",
   "metadata": {},
   "outputs": [
    {
     "name": "stdout",
     "output_type": "stream",
     "text": [
      "19025\n"
     ]
    }
   ],
   "source": [
    "print(len(data))"
   ]
  }
 ],
 "metadata": {
  "kernelspec": {
   "display_name": "Python 3 (ipykernel)",
   "language": "python",
   "name": "python3"
  },
  "language_info": {
   "codemirror_mode": {
    "name": "ipython",
    "version": 3
   },
   "file_extension": ".py",
   "mimetype": "text/x-python",
   "name": "python",
   "nbconvert_exporter": "python",
   "pygments_lexer": "ipython3",
   "version": "3.9.12"
  }
 },
 "nbformat": 4,
 "nbformat_minor": 5
}
